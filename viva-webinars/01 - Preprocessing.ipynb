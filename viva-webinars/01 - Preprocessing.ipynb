{
 "cells": [
  {
   "cell_type": "markdown",
   "metadata": {},
   "source": [
    "## 1) file.txt => file.csv"
   ]
  },
  {
   "cell_type": "code",
   "execution_count": 1,
   "metadata": {},
   "outputs": [],
   "source": [
    "import pandas as pd"
   ]
  },
  {
   "cell_type": "code",
   "execution_count": 2,
   "metadata": {},
   "outputs": [],
   "source": [
    "with open('data/20200714_meeting_saved_chat.txt') as f:\n",
    "    lines = f.readlines()"
   ]
  },
  {
   "cell_type": "code",
   "execution_count": 3,
   "metadata": {},
   "outputs": [],
   "source": [
    "data = []\n",
    "time, name, comment = '', '', ''\n",
    "for i, l in enumerate(lines):\n",
    "    if '\\t From  ' in l:\n",
    "        if i > 0:\n",
    "            data.append([time, name, comment])\n",
    "        time = l.split('\\t')[0]\n",
    "        name = l.split('\\t')[1].split(':')[0].replace('From', '').strip()\n",
    "        comment = l.split('\\t')[1].split(':')[1].strip()\n",
    "    elif i > 0:\n",
    "        comment += ' ' + l.strip()\n",
    "data.append([time, name, comment])        "
   ]
  },
  {
   "cell_type": "code",
   "execution_count": 4,
   "metadata": {},
   "outputs": [],
   "source": [
    "df = pd.DataFrame(data, columns=['time', 'name', 'comment'])"
   ]
  },
  {
   "cell_type": "code",
   "execution_count": 5,
   "metadata": {},
   "outputs": [],
   "source": [
    "df.to_csv('data/20200714_meeting_saved_chat.csv', index=False)"
   ]
  },
  {
   "cell_type": "markdown",
   "metadata": {},
   "source": [
    "## 2) Keywords heuristics"
   ]
  },
  {
   "cell_type": "code",
   "execution_count": 44,
   "metadata": {},
   "outputs": [],
   "source": [
    "pd.set_option('display.max_rows', 500)\n",
    "pd.set_option('max_colwidth', None)"
   ]
  },
  {
   "cell_type": "code",
   "execution_count": 170,
   "metadata": {},
   "outputs": [],
   "source": [
    "saludos = ['i.e.p', 'ugel', ' ie', 'i.e', 'saludos', 'ciudad ', 'region', 'región', 'hola', 'presente', 'buenas']\n",
    "asuntos_tecnicos = ['audio', 'escucha', 'camara', 'dejen de', 'ppt', 'link', 'facebook']\n",
    "apreciaciones = ['excelente', 'interesante', 'gracias']\n",
    "reflexiones = ['']\n",
    "consultas = ['?', 'quisiera saber']\n",
    "# anecdotas?"
   ]
  },
  {
   "cell_type": "code",
   "execution_count": 171,
   "metadata": {},
   "outputs": [],
   "source": [
    "def filter_data(data, keywords):\n",
    "    data_keywords = data[data.comment.apply(lambda c: any(k in c.lower() for k in keywords))]\n",
    "    data_complement = data[~data.comment.apply(lambda c: any(k in c.lower() for k in keywords))]\n",
    "    return data_keywords, data_complement"
   ]
  },
  {
   "cell_type": "code",
   "execution_count": 172,
   "metadata": {},
   "outputs": [
    {
     "data": {
      "text/plain": [
       "112"
      ]
     },
     "execution_count": 172,
     "metadata": {},
     "output_type": "execute_result"
    }
   ],
   "source": [
    "data.name.nunique()"
   ]
  },
  {
   "cell_type": "code",
   "execution_count": 173,
   "metadata": {},
   "outputs": [
    {
     "data": {
      "text/plain": [
       "(677, 36, 641)"
      ]
     },
     "execution_count": 173,
     "metadata": {},
     "output_type": "execute_result"
    }
   ],
   "source": [
    "data = df.copy()\n",
    "\n",
    "data_consultas, data = filter_data(data, consultas)\n",
    "len(df), len(data_consultas), len(data)"
   ]
  },
  {
   "cell_type": "code",
   "execution_count": 174,
   "metadata": {},
   "outputs": [
    {
     "data": {
      "text/plain": [
       "(677, 133, 508)"
      ]
     },
     "execution_count": 174,
     "metadata": {},
     "output_type": "execute_result"
    }
   ],
   "source": [
    "data_apreciaciones, data = filter_data(data, apreciaciones)\n",
    "len(df), len(data_apreciaciones), len(data)"
   ]
  },
  {
   "cell_type": "code",
   "execution_count": 175,
   "metadata": {},
   "outputs": [
    {
     "data": {
      "text/plain": [
       "(677, 277, 231)"
      ]
     },
     "execution_count": 175,
     "metadata": {},
     "output_type": "execute_result"
    }
   ],
   "source": [
    "data_saludos, data = filter_data(data, saludos)\n",
    "len(df), len(data_saludos), len(data)"
   ]
  },
  {
   "cell_type": "code",
   "execution_count": 176,
   "metadata": {},
   "outputs": [
    {
     "data": {
      "text/plain": [
       "(677, 33, 198)"
      ]
     },
     "execution_count": 176,
     "metadata": {},
     "output_type": "execute_result"
    }
   ],
   "source": [
    "data_asuntos_tecnicos, data = filter_data(data, asuntos_tecnicos)\n",
    "len(df), len(data_asuntos_tecnicos), len(data)"
   ]
  },
  {
   "cell_type": "code",
   "execution_count": 177,
   "metadata": {},
   "outputs": [
    {
     "data": {
      "text/plain": [
       "0.29246676514032494"
      ]
     },
     "execution_count": 177,
     "metadata": {},
     "output_type": "execute_result"
    }
   ],
   "source": [
    "len(data) / len(df)"
   ]
  },
  {
   "cell_type": "code",
   "execution_count": 180,
   "metadata": {},
   "outputs": [
    {
     "data": {
      "text/html": [
       "<style  type=\"text/css\" >\n",
       "    #T_e3e034ee_c91c_11ea_b776_80e6501e9348row0_col0 {\n",
       "            text-align:  left;\n",
       "        }    #T_e3e034ee_c91c_11ea_b776_80e6501e9348row0_col1 {\n",
       "            text-align:  left;\n",
       "        }    #T_e3e034ee_c91c_11ea_b776_80e6501e9348row0_col2 {\n",
       "            text-align:  left;\n",
       "        }    #T_e3e034ee_c91c_11ea_b776_80e6501e9348row1_col0 {\n",
       "            text-align:  left;\n",
       "        }    #T_e3e034ee_c91c_11ea_b776_80e6501e9348row1_col1 {\n",
       "            text-align:  left;\n",
       "        }    #T_e3e034ee_c91c_11ea_b776_80e6501e9348row1_col2 {\n",
       "            text-align:  left;\n",
       "        }    #T_e3e034ee_c91c_11ea_b776_80e6501e9348row2_col0 {\n",
       "            text-align:  left;\n",
       "        }    #T_e3e034ee_c91c_11ea_b776_80e6501e9348row2_col1 {\n",
       "            text-align:  left;\n",
       "        }    #T_e3e034ee_c91c_11ea_b776_80e6501e9348row2_col2 {\n",
       "            text-align:  left;\n",
       "        }    #T_e3e034ee_c91c_11ea_b776_80e6501e9348row3_col0 {\n",
       "            text-align:  left;\n",
       "        }    #T_e3e034ee_c91c_11ea_b776_80e6501e9348row3_col1 {\n",
       "            text-align:  left;\n",
       "        }    #T_e3e034ee_c91c_11ea_b776_80e6501e9348row3_col2 {\n",
       "            text-align:  left;\n",
       "        }    #T_e3e034ee_c91c_11ea_b776_80e6501e9348row4_col0 {\n",
       "            text-align:  left;\n",
       "        }    #T_e3e034ee_c91c_11ea_b776_80e6501e9348row4_col1 {\n",
       "            text-align:  left;\n",
       "        }    #T_e3e034ee_c91c_11ea_b776_80e6501e9348row4_col2 {\n",
       "            text-align:  left;\n",
       "        }</style><table id=\"T_e3e034ee_c91c_11ea_b776_80e6501e9348\" ><thead>    <tr>        <th class=\"blank level0\" ></th>        <th class=\"col_heading level0 col0\" >time</th>        <th class=\"col_heading level0 col1\" >name</th>        <th class=\"col_heading level0 col2\" >comment</th>    </tr></thead><tbody>\n",
       "                <tr>\n",
       "                        <th id=\"T_e3e034ee_c91c_11ea_b776_80e6501e9348level0_row0\" class=\"row_heading level0 row0\" >61</th>\n",
       "                        <td id=\"T_e3e034ee_c91c_11ea_b776_80e6501e9348row0_col0\" class=\"data row0 col0\" >19:05:23</td>\n",
       "                        <td id=\"T_e3e034ee_c91c_11ea_b776_80e6501e9348row0_col1\" class=\"data row0 col1\" >ELVIA AGRIPINA RAMIREZ BAUTISTA</td>\n",
       "                        <td id=\"T_e3e034ee_c91c_11ea_b776_80e6501e9348row0_col2\" class=\"data row0 col2\" >buenos noches cutervo cajamarca</td>\n",
       "            </tr>\n",
       "            <tr>\n",
       "                        <th id=\"T_e3e034ee_c91c_11ea_b776_80e6501e9348level0_row1\" class=\"row_heading level0 row1\" >66</th>\n",
       "                        <td id=\"T_e3e034ee_c91c_11ea_b776_80e6501e9348row1_col0\" class=\"data row1 col0\" >19:05:30</td>\n",
       "                        <td id=\"T_e3e034ee_c91c_11ea_b776_80e6501e9348row1_col1\" class=\"data row1 col1\" >Mauricio Mendoza Eleuterio</td>\n",
       "                        <td id=\"T_e3e034ee_c91c_11ea_b776_80e6501e9348row1_col2\" class=\"data row1 col2\" >MENDOZA ELEUTERIO, MAURICIO. Le saluda desde Huari - Ancash</td>\n",
       "            </tr>\n",
       "            <tr>\n",
       "                        <th id=\"T_e3e034ee_c91c_11ea_b776_80e6501e9348level0_row2\" class=\"row_heading level0 row2\" >72</th>\n",
       "                        <td id=\"T_e3e034ee_c91c_11ea_b776_80e6501e9348row2_col0\" class=\"data row2 col0\" >19:05:41</td>\n",
       "                        <td id=\"T_e3e034ee_c91c_11ea_b776_80e6501e9348row2_col1\" class=\"data row2 col1\" >Luz Marina Vásquez del Castillo</td>\n",
       "                        <td id=\"T_e3e034ee_c91c_11ea_b776_80e6501e9348row2_col2\" class=\"data row2 col2\" >Luz Marina desde Nasca</td>\n",
       "            </tr>\n",
       "            <tr>\n",
       "                        <th id=\"T_e3e034ee_c91c_11ea_b776_80e6501e9348level0_row3\" class=\"row_heading level0 row3\" >104</th>\n",
       "                        <td id=\"T_e3e034ee_c91c_11ea_b776_80e6501e9348row3_col0\" class=\"data row3 col0\" >19:06:34</td>\n",
       "                        <td id=\"T_e3e034ee_c91c_11ea_b776_80e6501e9348row3_col1\" class=\"data row3 col1\" >MARCOS GOMEZ DIAZ</td>\n",
       "                        <td id=\"T_e3e034ee_c91c_11ea_b776_80e6501e9348row3_col2\" class=\"data row3 col2\" >11098 JUAN PABLO II DE CHICLAYO</td>\n",
       "            </tr>\n",
       "            <tr>\n",
       "                        <th id=\"T_e3e034ee_c91c_11ea_b776_80e6501e9348level0_row4\" class=\"row_heading level0 row4\" >108</th>\n",
       "                        <td id=\"T_e3e034ee_c91c_11ea_b776_80e6501e9348row4_col0\" class=\"data row4 col0\" >19:06:46</td>\n",
       "                        <td id=\"T_e3e034ee_c91c_11ea_b776_80e6501e9348row4_col1\" class=\"data row4 col1\" >YESENIA Aguirre</td>\n",
       "                        <td id=\"T_e3e034ee_c91c_11ea_b776_80e6501e9348row4_col2\" class=\"data row4 col2\" >Jorge Angulo Argomedo</td>\n",
       "            </tr>\n",
       "    </tbody></table>"
      ],
      "text/plain": [
       "<pandas.io.formats.style.Styler at 0x124d57ba8>"
      ]
     },
     "execution_count": 180,
     "metadata": {},
     "output_type": "execute_result"
    }
   ],
   "source": [
    "data.head().style.set_properties(**{'text-align': 'left'})"
   ]
  },
  {
   "cell_type": "markdown",
   "metadata": {},
   "source": [
    "## 3) Manual verification\n",
    "Excel / google spreadsheets may be enough"
   ]
  },
  {
   "cell_type": "code",
   "execution_count": null,
   "metadata": {},
   "outputs": [],
   "source": []
  }
 ],
 "metadata": {
  "kernelspec": {
   "display_name": "Python 3",
   "language": "python",
   "name": "python3"
  },
  "language_info": {
   "codemirror_mode": {
    "name": "ipython",
    "version": 3
   },
   "file_extension": ".py",
   "mimetype": "text/x-python",
   "name": "python",
   "nbconvert_exporter": "python",
   "pygments_lexer": "ipython3",
   "version": "3.6.10"
  }
 },
 "nbformat": 4,
 "nbformat_minor": 4
}
