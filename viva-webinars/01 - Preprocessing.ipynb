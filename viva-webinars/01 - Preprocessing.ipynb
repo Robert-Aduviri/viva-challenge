{
 "cells": [
  {
   "cell_type": "markdown",
   "metadata": {},
   "source": [
    "## 1) file.txt => file.csv"
   ]
  },
  {
   "cell_type": "code",
   "execution_count": 1,
   "metadata": {},
   "outputs": [],
   "source": [
    "import pandas as pd"
   ]
  },
  {
   "cell_type": "code",
   "execution_count": 2,
   "metadata": {},
   "outputs": [],
   "source": [
    "with open('data/20200714_meeting_saved_chat.txt') as f:\n",
    "    lines = f.readlines()"
   ]
  },
  {
   "cell_type": "code",
   "execution_count": 3,
   "metadata": {},
   "outputs": [],
   "source": [
    "data = []\n",
    "time, name, comment = '', '', ''\n",
    "for i, l in enumerate(lines):\n",
    "    if '\\t From  ' in l:\n",
    "        if i > 0:\n",
    "            data.append([time, name, comment])\n",
    "        time = l.split('\\t')[0]\n",
    "        name = l.split('\\t')[1].split(':')[0].replace('From', '').strip()\n",
    "        comment = l.split('\\t')[1].split(':')[1].strip()\n",
    "    elif i > 0:\n",
    "        comment += ' ' + l.strip()\n",
    "data.append([time, name, comment])        "
   ]
  },
  {
   "cell_type": "code",
   "execution_count": 4,
   "metadata": {},
   "outputs": [],
   "source": [
    "df = pd.DataFrame(data, columns=['time', 'name', 'comment'])"
   ]
  },
  {
   "cell_type": "code",
   "execution_count": 5,
   "metadata": {},
   "outputs": [],
   "source": [
    "df.to_csv('data/20200714_meeting_saved_chat.csv', index=False)"
   ]
  },
  {
   "cell_type": "markdown",
   "metadata": {},
   "source": [
    "## 2) Keywords heuristics"
   ]
  },
  {
   "cell_type": "code",
   "execution_count": 12,
   "metadata": {},
   "outputs": [],
   "source": [
    "df = pd.read_csv('data/20200714_meeting_saved_chat.csv')"
   ]
  },
  {
   "cell_type": "code",
   "execution_count": 13,
   "metadata": {},
   "outputs": [],
   "source": [
    "pd.set_option('display.max_rows', 500)\n",
    "pd.set_option('max_colwidth', None)"
   ]
  },
  {
   "cell_type": "code",
   "execution_count": 64,
   "metadata": {},
   "outputs": [],
   "source": [
    "saludos = ['i.e.p', 'ugel', ' ie', 'i.e', 'i. e', 'saludos', 'ciudad ', 'region', 'región', 'hola', 'presente', 'buenas', 'provincia']\n",
    "asuntos_tecnicos = ['audio', 'escucha', 'camara', 'dejen de', 'ppt', 'link', 'facebook', 'escucho']\n",
    "apreciaciones = ['excelente', 'interesante', 'gracias']\n",
    "reflexiones = ['']\n",
    "consultas = ['?', 'quisiera saber']\n",
    "# anecdotas?"
   ]
  },
  {
   "cell_type": "code",
   "execution_count": 65,
   "metadata": {},
   "outputs": [],
   "source": [
    "def filter_data(data, keywords):\n",
    "    data_keywords = data[data.comment.apply(lambda c: any(k in c.lower() for k in keywords))]\n",
    "    data_complement = data[~data.comment.apply(lambda c: any(k in c.lower() for k in keywords))]\n",
    "    return data_keywords, data_complement"
   ]
  },
  {
   "cell_type": "code",
   "execution_count": 66,
   "metadata": {},
   "outputs": [
    {
     "output_type": "execute_result",
     "data": {
      "text/plain": "(677, 36, 641)"
     },
     "metadata": {},
     "execution_count": 66
    }
   ],
   "source": [
    "data = df.copy()\n",
    "\n",
    "data_consultas, data = filter_data(data, consultas)\n",
    "len(df), len(data_consultas), len(data)"
   ]
  },
  {
   "cell_type": "code",
   "execution_count": 67,
   "metadata": {},
   "outputs": [
    {
     "output_type": "execute_result",
     "data": {
      "text/plain": "(677, 133, 508)"
     },
     "metadata": {},
     "execution_count": 67
    }
   ],
   "source": [
    "data_apreciaciones, data = filter_data(data, apreciaciones)\n",
    "len(df), len(data_apreciaciones), len(data)"
   ]
  },
  {
   "cell_type": "code",
   "execution_count": 68,
   "metadata": {},
   "outputs": [
    {
     "output_type": "execute_result",
     "data": {
      "text/plain": "(677, 279, 229)"
     },
     "metadata": {},
     "execution_count": 68
    }
   ],
   "source": [
    "data_saludos, data = filter_data(data, saludos)\n",
    "len(df), len(data_saludos), len(data)"
   ]
  },
  {
   "cell_type": "code",
   "execution_count": 69,
   "metadata": {},
   "outputs": [
    {
     "output_type": "execute_result",
     "data": {
      "text/plain": "(677, 34, 195)"
     },
     "metadata": {},
     "execution_count": 69
    }
   ],
   "source": [
    "data_asuntos_tecnicos, data = filter_data(data, asuntos_tecnicos)\n",
    "len(df), len(data_asuntos_tecnicos), len(data)"
   ]
  },
  {
   "cell_type": "code",
   "execution_count": 70,
   "metadata": {},
   "outputs": [
    {
     "output_type": "execute_result",
     "data": {
      "text/plain": "(677, 195, 195)"
     },
     "metadata": {},
     "execution_count": 70
    }
   ],
   "source": [
    "data_reflexiones = data.copy()\n",
    "len(df), len(data_reflexiones), len(data)"
   ]
  },
  {
   "cell_type": "code",
   "execution_count": 71,
   "metadata": {},
   "outputs": [
    {
     "output_type": "execute_result",
     "data": {
      "text/plain": "0.2880354505169867"
     },
     "metadata": {},
     "execution_count": 71
    }
   ],
   "source": [
    "len(data) / len(df)"
   ]
  },
  {
   "cell_type": "code",
   "execution_count": 83,
   "metadata": {
    "tags": []
   },
   "outputs": [
    {
     "output_type": "stream",
     "name": "stdout",
     "text": "Questions: 36 rows\n"
    },
    {
     "output_type": "execute_result",
     "data": {
      "text/plain": "<pandas.io.formats.style.Styler at 0x11c41a400>",
      "text/html": "<style  type=\"text/css\" >\n    #T_d3e77786_e265_11ea_ba17_80e6501e9348row0_col0 {\n            text-align:  left;\n        }    #T_d3e77786_e265_11ea_ba17_80e6501e9348row0_col1 {\n            text-align:  left;\n        }    #T_d3e77786_e265_11ea_ba17_80e6501e9348row0_col2 {\n            text-align:  left;\n        }    #T_d3e77786_e265_11ea_ba17_80e6501e9348row1_col0 {\n            text-align:  left;\n        }    #T_d3e77786_e265_11ea_ba17_80e6501e9348row1_col1 {\n            text-align:  left;\n        }    #T_d3e77786_e265_11ea_ba17_80e6501e9348row1_col2 {\n            text-align:  left;\n        }    #T_d3e77786_e265_11ea_ba17_80e6501e9348row2_col0 {\n            text-align:  left;\n        }    #T_d3e77786_e265_11ea_ba17_80e6501e9348row2_col1 {\n            text-align:  left;\n        }    #T_d3e77786_e265_11ea_ba17_80e6501e9348row2_col2 {\n            text-align:  left;\n        }    #T_d3e77786_e265_11ea_ba17_80e6501e9348row3_col0 {\n            text-align:  left;\n        }    #T_d3e77786_e265_11ea_ba17_80e6501e9348row3_col1 {\n            text-align:  left;\n        }    #T_d3e77786_e265_11ea_ba17_80e6501e9348row3_col2 {\n            text-align:  left;\n        }    #T_d3e77786_e265_11ea_ba17_80e6501e9348row4_col0 {\n            text-align:  left;\n        }    #T_d3e77786_e265_11ea_ba17_80e6501e9348row4_col1 {\n            text-align:  left;\n        }    #T_d3e77786_e265_11ea_ba17_80e6501e9348row4_col2 {\n            text-align:  left;\n        }    #T_d3e77786_e265_11ea_ba17_80e6501e9348row5_col0 {\n            text-align:  left;\n        }    #T_d3e77786_e265_11ea_ba17_80e6501e9348row5_col1 {\n            text-align:  left;\n        }    #T_d3e77786_e265_11ea_ba17_80e6501e9348row5_col2 {\n            text-align:  left;\n        }    #T_d3e77786_e265_11ea_ba17_80e6501e9348row6_col0 {\n            text-align:  left;\n        }    #T_d3e77786_e265_11ea_ba17_80e6501e9348row6_col1 {\n            text-align:  left;\n        }    #T_d3e77786_e265_11ea_ba17_80e6501e9348row6_col2 {\n            text-align:  left;\n        }    #T_d3e77786_e265_11ea_ba17_80e6501e9348row7_col0 {\n            text-align:  left;\n        }    #T_d3e77786_e265_11ea_ba17_80e6501e9348row7_col1 {\n            text-align:  left;\n        }    #T_d3e77786_e265_11ea_ba17_80e6501e9348row7_col2 {\n            text-align:  left;\n        }    #T_d3e77786_e265_11ea_ba17_80e6501e9348row8_col0 {\n            text-align:  left;\n        }    #T_d3e77786_e265_11ea_ba17_80e6501e9348row8_col1 {\n            text-align:  left;\n        }    #T_d3e77786_e265_11ea_ba17_80e6501e9348row8_col2 {\n            text-align:  left;\n        }    #T_d3e77786_e265_11ea_ba17_80e6501e9348row9_col0 {\n            text-align:  left;\n        }    #T_d3e77786_e265_11ea_ba17_80e6501e9348row9_col1 {\n            text-align:  left;\n        }    #T_d3e77786_e265_11ea_ba17_80e6501e9348row9_col2 {\n            text-align:  left;\n        }</style><table id=\"T_d3e77786_e265_11ea_ba17_80e6501e9348\" ><thead>    <tr>        <th class=\"blank level0\" ></th>        <th class=\"col_heading level0 col0\" >time</th>        <th class=\"col_heading level0 col1\" >name</th>        <th class=\"col_heading level0 col2\" >comment</th>    </tr></thead><tbody>\n                <tr>\n                        <th id=\"T_d3e77786_e265_11ea_ba17_80e6501e9348level0_row0\" class=\"row_heading level0 row0\" >500</th>\n                        <td id=\"T_d3e77786_e265_11ea_ba17_80e6501e9348row0_col0\" class=\"data row0 col0\" >20:08:31</td>\n                        <td id=\"T_d3e77786_e265_11ea_ba17_80e6501e9348row0_col1\" class=\"data row0 col1\" >Martín Antonio López Cruz</td>\n                        <td id=\"T_d3e77786_e265_11ea_ba17_80e6501e9348row0_col2\" class=\"data row0 col2\" >¿Podría compartir brevemente cómo construyen el currículo para trabajar con sus estudiantes?</td>\n            </tr>\n            <tr>\n                        <th id=\"T_d3e77786_e265_11ea_ba17_80e6501e9348level0_row1\" class=\"row_heading level0 row1\" >444</th>\n                        <td id=\"T_d3e77786_e265_11ea_ba17_80e6501e9348row1_col0\" class=\"data row1 col0\" >19:53:45</td>\n                        <td id=\"T_d3e77786_e265_11ea_ba17_80e6501e9348row1_col1\" class=\"data row1 col1\" >LIVIA SUNI AYMACHOQUE</td>\n                        <td id=\"T_d3e77786_e265_11ea_ba17_80e6501e9348row1_col2\" class=\"data row1 col2\" >CÓMO PUEDO TRATAR  A UNA PERSONA ESPECIAL CON PROBLEMAS DE AUDICION, QUE APROVECHA  SU MAL PARA MALOGRAR EL BUEN CLIMA INSTITUCIONAL POR QUE DEMUESTRA UNA ALTERACION EMOCIONAL EN CUALQUIER MOMENTO?  Y MUCHAS VECES EMPIEZA A GRITAR  OFENDIENDO A LOS DEMAS? ¿PUEDE ASUMIR SU RESPONSABILIDAD CON NORMALIDAD  O DEBE HACER SOLO LO QUE ELLA QUIERE?</td>\n            </tr>\n            <tr>\n                        <th id=\"T_d3e77786_e265_11ea_ba17_80e6501e9348level0_row2\" class=\"row_heading level0 row2\" >386</th>\n                        <td id=\"T_d3e77786_e265_11ea_ba17_80e6501e9348row2_col0\" class=\"data row2 col0\" >19:47:48</td>\n                        <td id=\"T_d3e77786_e265_11ea_ba17_80e6501e9348row2_col1\" class=\"data row2 col1\" >Ana María Trujillo Amoros</td>\n                        <td id=\"T_d3e77786_e265_11ea_ba17_80e6501e9348row2_col2\" class=\"data row2 col2\" >Que debe cambiar? La mirada del sistema y de los que enseñamos en mantener el foco en los aprendizajes para adecuar los recursos en función de las necesidades del que aprende</td>\n            </tr>\n            <tr>\n                        <th id=\"T_d3e77786_e265_11ea_ba17_80e6501e9348level0_row3\" class=\"row_heading level0 row3\" >496</th>\n                        <td id=\"T_d3e77786_e265_11ea_ba17_80e6501e9348row3_col0\" class=\"data row3 col0\" >20:08:01</td>\n                        <td id=\"T_d3e77786_e265_11ea_ba17_80e6501e9348row3_col1\" class=\"data row3 col1\" >Cesar Palacios</td>\n                        <td id=\"T_d3e77786_e265_11ea_ba17_80e6501e9348row3_col2\" class=\"data row3 col2\" >se tiene que practicar a ver el error como algo positivo?</td>\n            </tr>\n            <tr>\n                        <th id=\"T_d3e77786_e265_11ea_ba17_80e6501e9348level0_row4\" class=\"row_heading level0 row4\" >455</th>\n                        <td id=\"T_d3e77786_e265_11ea_ba17_80e6501e9348row4_col0\" class=\"data row4 col0\" >19:54:49</td>\n                        <td id=\"T_d3e77786_e265_11ea_ba17_80e6501e9348row4_col1\" class=\"data row4 col1\" >ELOY MARLON TAPIA ESPINOZA</td>\n                        <td id=\"T_d3e77786_e265_11ea_ba17_80e6501e9348row4_col2\" class=\"data row4 col2\" >¿QUÉ TIPOS DE HABILIDADES DEBERÍA O DEBE TENER EL DOCENTE PARA PODER DETECTAR O ENCONTRAR  \"ERROR\" Y FOMENTAR UN APRENDIZAJE FLOW?</td>\n            </tr>\n            <tr>\n                        <th id=\"T_d3e77786_e265_11ea_ba17_80e6501e9348level0_row5\" class=\"row_heading level0 row5\" >383</th>\n                        <td id=\"T_d3e77786_e265_11ea_ba17_80e6501e9348row5_col0\" class=\"data row5 col0\" >19:47:36</td>\n                        <td id=\"T_d3e77786_e265_11ea_ba17_80e6501e9348row5_col1\" class=\"data row5 col1\" >AUDABER LEANDRO INOCENCIO</td>\n                        <td id=\"T_d3e77786_e265_11ea_ba17_80e6501e9348row5_col2\" class=\"data row5 col2\" >quisiera que me diga todo docente para el siglo xxI iidebe ser psaicologo o tener un  pos grado en neurociencia ¿cree ud. que es la solucion para los docentes en su coplemento profesoional y mejorar nuestro sistema educativo?</td>\n            </tr>\n            <tr>\n                        <th id=\"T_d3e77786_e265_11ea_ba17_80e6501e9348level0_row6\" class=\"row_heading level0 row6\" >363</th>\n                        <td id=\"T_d3e77786_e265_11ea_ba17_80e6501e9348row6_col0\" class=\"data row6 col0\" >19:46:22</td>\n                        <td id=\"T_d3e77786_e265_11ea_ba17_80e6501e9348row6_col1\" class=\"data row6 col1\" >Martín Antonio López Cruz</td>\n                        <td id=\"T_d3e77786_e265_11ea_ba17_80e6501e9348row6_col2\" class=\"data row6 col2\" >Qué tiene que cambiar??? trabajar más en equipo, compartir nuestros hallazgos y experiencias, pero por sobre todo debemos cambiar nuestro enfoque de estar centrado en los temas o contenidos y desarrollar la capacidad de encontrar experiencias educativas (de la vida de nuestros estudiantes) y que los retan para vivir mjor</td>\n            </tr>\n            <tr>\n                        <th id=\"T_d3e77786_e265_11ea_ba17_80e6501e9348level0_row7\" class=\"row_heading level0 row7\" >321</th>\n                        <td id=\"T_d3e77786_e265_11ea_ba17_80e6501e9348row7_col0\" class=\"data row7 col0\" >19:43:18</td>\n                        <td id=\"T_d3e77786_e265_11ea_ba17_80e6501e9348row7_col1\" class=\"data row7 col1\" >MARILÚ CUADRA CERNA</td>\n                        <td id=\"T_d3e77786_e265_11ea_ba17_80e6501e9348row7_col2\" class=\"data row7 col2\" >¿QUÉ SE DEBE HACER CON UN NIÑO QUE SOLAMENTE QUIERE JUGAR?</td>\n            </tr>\n            <tr>\n                        <th id=\"T_d3e77786_e265_11ea_ba17_80e6501e9348level0_row8\" class=\"row_heading level0 row8\" >364</th>\n                        <td id=\"T_d3e77786_e265_11ea_ba17_80e6501e9348row8_col0\" class=\"data row8 col0\" >19:46:30</td>\n                        <td id=\"T_d3e77786_e265_11ea_ba17_80e6501e9348row8_col1\" class=\"data row8 col1\" >Alexandra Arzubialde</td>\n                        <td id=\"T_d3e77786_e265_11ea_ba17_80e6501e9348row8_col2\" class=\"data row8 col2\" >Muchos padres de familia en el nivel inicial no permiten que sus niños se equivoquen y ellos hacen las actividades por ellos y ellos envian los audios, ellos les pteparan el libreto. Y desde pequeños les inculcan al perfeccionismo. Qué hacer? Como abordar la práctica profunda en el nivel inicial?</td>\n            </tr>\n            <tr>\n                        <th id=\"T_d3e77786_e265_11ea_ba17_80e6501e9348level0_row9\" class=\"row_heading level0 row9\" >491</th>\n                        <td id=\"T_d3e77786_e265_11ea_ba17_80e6501e9348row9_col0\" class=\"data row9 col0\" >20:06:20</td>\n                        <td id=\"T_d3e77786_e265_11ea_ba17_80e6501e9348row9_col1\" class=\"data row9 col1\" >WILBERT SABASTIZAGAL</td>\n                        <td id=\"T_d3e77786_e265_11ea_ba17_80e6501e9348row9_col2\" class=\"data row9 col2\" >Buenas noches ¿Es lo mismo desconocimiento que error?</td>\n            </tr>\n    </tbody></table>"
     },
     "metadata": {},
     "execution_count": 83
    }
   ],
   "source": [
    "print(f'Questions: {len(data_consultas)} rows')\n",
    "data_consultas.sample(10, random_state=0).style.set_properties(**{'text-align': 'left'})"
   ]
  },
  {
   "cell_type": "code",
   "execution_count": 84,
   "metadata": {
    "tags": []
   },
   "outputs": [
    {
     "output_type": "stream",
     "name": "stdout",
     "text": "Appreciations: 133 rows\n"
    },
    {
     "output_type": "execute_result",
     "data": {
      "text/plain": "<pandas.io.formats.style.Styler at 0x11c7babe0>",
      "text/html": "<style  type=\"text/css\" >\n    #T_de4f1402_e265_11ea_ae2a_80e6501e9348row0_col0 {\n            text-align:  left;\n        }    #T_de4f1402_e265_11ea_ae2a_80e6501e9348row0_col1 {\n            text-align:  left;\n        }    #T_de4f1402_e265_11ea_ae2a_80e6501e9348row0_col2 {\n            text-align:  left;\n        }    #T_de4f1402_e265_11ea_ae2a_80e6501e9348row1_col0 {\n            text-align:  left;\n        }    #T_de4f1402_e265_11ea_ae2a_80e6501e9348row1_col1 {\n            text-align:  left;\n        }    #T_de4f1402_e265_11ea_ae2a_80e6501e9348row1_col2 {\n            text-align:  left;\n        }    #T_de4f1402_e265_11ea_ae2a_80e6501e9348row2_col0 {\n            text-align:  left;\n        }    #T_de4f1402_e265_11ea_ae2a_80e6501e9348row2_col1 {\n            text-align:  left;\n        }    #T_de4f1402_e265_11ea_ae2a_80e6501e9348row2_col2 {\n            text-align:  left;\n        }    #T_de4f1402_e265_11ea_ae2a_80e6501e9348row3_col0 {\n            text-align:  left;\n        }    #T_de4f1402_e265_11ea_ae2a_80e6501e9348row3_col1 {\n            text-align:  left;\n        }    #T_de4f1402_e265_11ea_ae2a_80e6501e9348row3_col2 {\n            text-align:  left;\n        }    #T_de4f1402_e265_11ea_ae2a_80e6501e9348row4_col0 {\n            text-align:  left;\n        }    #T_de4f1402_e265_11ea_ae2a_80e6501e9348row4_col1 {\n            text-align:  left;\n        }    #T_de4f1402_e265_11ea_ae2a_80e6501e9348row4_col2 {\n            text-align:  left;\n        }    #T_de4f1402_e265_11ea_ae2a_80e6501e9348row5_col0 {\n            text-align:  left;\n        }    #T_de4f1402_e265_11ea_ae2a_80e6501e9348row5_col1 {\n            text-align:  left;\n        }    #T_de4f1402_e265_11ea_ae2a_80e6501e9348row5_col2 {\n            text-align:  left;\n        }    #T_de4f1402_e265_11ea_ae2a_80e6501e9348row6_col0 {\n            text-align:  left;\n        }    #T_de4f1402_e265_11ea_ae2a_80e6501e9348row6_col1 {\n            text-align:  left;\n        }    #T_de4f1402_e265_11ea_ae2a_80e6501e9348row6_col2 {\n            text-align:  left;\n        }    #T_de4f1402_e265_11ea_ae2a_80e6501e9348row7_col0 {\n            text-align:  left;\n        }    #T_de4f1402_e265_11ea_ae2a_80e6501e9348row7_col1 {\n            text-align:  left;\n        }    #T_de4f1402_e265_11ea_ae2a_80e6501e9348row7_col2 {\n            text-align:  left;\n        }    #T_de4f1402_e265_11ea_ae2a_80e6501e9348row8_col0 {\n            text-align:  left;\n        }    #T_de4f1402_e265_11ea_ae2a_80e6501e9348row8_col1 {\n            text-align:  left;\n        }    #T_de4f1402_e265_11ea_ae2a_80e6501e9348row8_col2 {\n            text-align:  left;\n        }    #T_de4f1402_e265_11ea_ae2a_80e6501e9348row9_col0 {\n            text-align:  left;\n        }    #T_de4f1402_e265_11ea_ae2a_80e6501e9348row9_col1 {\n            text-align:  left;\n        }    #T_de4f1402_e265_11ea_ae2a_80e6501e9348row9_col2 {\n            text-align:  left;\n        }</style><table id=\"T_de4f1402_e265_11ea_ae2a_80e6501e9348\" ><thead>    <tr>        <th class=\"blank level0\" ></th>        <th class=\"col_heading level0 col0\" >time</th>        <th class=\"col_heading level0 col1\" >name</th>        <th class=\"col_heading level0 col2\" >comment</th>    </tr></thead><tbody>\n                <tr>\n                        <th id=\"T_de4f1402_e265_11ea_ae2a_80e6501e9348level0_row0\" class=\"row_heading level0 row0\" >632</th>\n                        <td id=\"T_de4f1402_e265_11ea_ae2a_80e6501e9348row0_col0\" class=\"data row0 col0\" >20:34:00</td>\n                        <td id=\"T_de4f1402_e265_11ea_ae2a_80e6501e9348row0_col1\" class=\"data row0 col1\" >JUAN GOMEZ</td>\n                        <td id=\"T_de4f1402_e265_11ea_ae2a_80e6501e9348row0_col2\" class=\"data row0 col2\" >GRACIAS DE PISCO-ICA</td>\n            </tr>\n            <tr>\n                        <th id=\"T_de4f1402_e265_11ea_ae2a_80e6501e9348level0_row1\" class=\"row_heading level0 row1\" >674</th>\n                        <td id=\"T_de4f1402_e265_11ea_ae2a_80e6501e9348row1_col0\" class=\"data row1 col0\" >20:34:43</td>\n                        <td id=\"T_de4f1402_e265_11ea_ae2a_80e6501e9348row1_col1\" class=\"data row1 col1\" >Flor de María Chuquiarque Ancco</td>\n                        <td id=\"T_de4f1402_e265_11ea_ae2a_80e6501e9348row1_col2\" class=\"data row1 col2\" >Gracias</td>\n            </tr>\n            <tr>\n                        <th id=\"T_de4f1402_e265_11ea_ae2a_80e6501e9348level0_row2\" class=\"row_heading level0 row2\" >514</th>\n                        <td id=\"T_de4f1402_e265_11ea_ae2a_80e6501e9348row2_col0\" class=\"data row2 col0\" >20:14:07</td>\n                        <td id=\"T_de4f1402_e265_11ea_ae2a_80e6501e9348row2_col1\" class=\"data row2 col1\" >Olinda Arribasplata Padilla</td>\n                        <td id=\"T_de4f1402_e265_11ea_ae2a_80e6501e9348row2_col2\" class=\"data row2 col2\" >excelente ponencia</td>\n            </tr>\n            <tr>\n                        <th id=\"T_de4f1402_e265_11ea_ae2a_80e6501e9348level0_row3\" class=\"row_heading level0 row3\" >322</th>\n                        <td id=\"T_de4f1402_e265_11ea_ae2a_80e6501e9348row3_col0\" class=\"data row3 col0\" >19:43:24</td>\n                        <td id=\"T_de4f1402_e265_11ea_ae2a_80e6501e9348row3_col1\" class=\"data row3 col1\" >JAVIER CACHAY ALVA</td>\n                        <td id=\"T_de4f1402_e265_11ea_ae2a_80e6501e9348row3_col2\" class=\"data row3 col2\" >EXCELENTE EXPOSICION</td>\n            </tr>\n            <tr>\n                        <th id=\"T_de4f1402_e265_11ea_ae2a_80e6501e9348level0_row4\" class=\"row_heading level0 row4\" >520</th>\n                        <td id=\"T_de4f1402_e265_11ea_ae2a_80e6501e9348row4_col0\" class=\"data row4 col0\" >20:17:21</td>\n                        <td id=\"T_de4f1402_e265_11ea_ae2a_80e6501e9348row4_col1\" class=\"data row4 col1\" >Nadia Siches Patiño</td>\n                        <td id=\"T_de4f1402_e265_11ea_ae2a_80e6501e9348row4_col2\" class=\"data row4 col2\" >Interesante pregunta</td>\n            </tr>\n            <tr>\n                        <th id=\"T_de4f1402_e265_11ea_ae2a_80e6501e9348level0_row5\" class=\"row_heading level0 row5\" >630</th>\n                        <td id=\"T_de4f1402_e265_11ea_ae2a_80e6501e9348row5_col0\" class=\"data row5 col0\" >20:33:54</td>\n                        <td id=\"T_de4f1402_e265_11ea_ae2a_80e6501e9348row5_col1\" class=\"data row5 col1\" >Victor Conchacalle</td>\n                        <td id=\"T_de4f1402_e265_11ea_ae2a_80e6501e9348row5_col2\" class=\"data row5 col2\" >Gracias.</td>\n            </tr>\n            <tr>\n                        <th id=\"T_de4f1402_e265_11ea_ae2a_80e6501e9348level0_row6\" class=\"row_heading level0 row6\" >651</th>\n                        <td id=\"T_de4f1402_e265_11ea_ae2a_80e6501e9348row6_col0\" class=\"data row6 col0\" >20:34:24</td>\n                        <td id=\"T_de4f1402_e265_11ea_ae2a_80e6501e9348row6_col1\" class=\"data row6 col1\" >Alila Torres</td>\n                        <td id=\"T_de4f1402_e265_11ea_ae2a_80e6501e9348row6_col2\" class=\"data row6 col2\" >GRACIAS</td>\n            </tr>\n            <tr>\n                        <th id=\"T_de4f1402_e265_11ea_ae2a_80e6501e9348level0_row7\" class=\"row_heading level0 row7\" >641</th>\n                        <td id=\"T_de4f1402_e265_11ea_ae2a_80e6501e9348row7_col0\" class=\"data row7 col0\" >20:34:06</td>\n                        <td id=\"T_de4f1402_e265_11ea_ae2a_80e6501e9348row7_col1\" class=\"data row7 col1\" >Gloria Vargas Maguiña</td>\n                        <td id=\"T_de4f1402_e265_11ea_ae2a_80e6501e9348row7_col2\" class=\"data row7 col2\" >Gracias</td>\n            </tr>\n            <tr>\n                        <th id=\"T_de4f1402_e265_11ea_ae2a_80e6501e9348level0_row8\" class=\"row_heading level0 row8\" >556</th>\n                        <td id=\"T_de4f1402_e265_11ea_ae2a_80e6501e9348row8_col0\" class=\"data row8 col0\" >20:29:20</td>\n                        <td id=\"T_de4f1402_e265_11ea_ae2a_80e6501e9348row8_col1\" class=\"data row8 col1\" >Juana LEON CARRION</td>\n                        <td id=\"T_de4f1402_e265_11ea_ae2a_80e6501e9348row8_col2\" class=\"data row8 col2\" >Gracias por permitirnos tener la oportunidad de aprender más. Muy interesante.</td>\n            </tr>\n            <tr>\n                        <th id=\"T_de4f1402_e265_11ea_ae2a_80e6501e9348level0_row9\" class=\"row_heading level0 row9\" >645</th>\n                        <td id=\"T_de4f1402_e265_11ea_ae2a_80e6501e9348row9_col0\" class=\"data row9 col0\" >20:34:11</td>\n                        <td id=\"T_de4f1402_e265_11ea_ae2a_80e6501e9348row9_col1\" class=\"data row9 col1\" >ENITH RONDAN PALMA</td>\n                        <td id=\"T_de4f1402_e265_11ea_ae2a_80e6501e9348row9_col2\" class=\"data row9 col2\" >MUCHAS GRACIAS DE CUSCO.</td>\n            </tr>\n    </tbody></table>"
     },
     "metadata": {},
     "execution_count": 84
    }
   ],
   "source": [
    "print(f'Appreciations: {len(data_apreciaciones)} rows')\n",
    "data_apreciaciones.sample(10, random_state=0).style.set_properties(**{'text-align': 'left'})"
   ]
  },
  {
   "cell_type": "code",
   "execution_count": 85,
   "metadata": {
    "tags": []
   },
   "outputs": [
    {
     "output_type": "stream",
     "name": "stdout",
     "text": "Greetings: 279 rows\n"
    },
    {
     "output_type": "execute_result",
     "data": {
      "text/plain": "<pandas.io.formats.style.Styler at 0x11c6dcf60>",
      "text/html": "<style  type=\"text/css\" >\n    #T_e2034140_e265_11ea_9558_80e6501e9348row0_col0 {\n            text-align:  left;\n        }    #T_e2034140_e265_11ea_9558_80e6501e9348row0_col1 {\n            text-align:  left;\n        }    #T_e2034140_e265_11ea_9558_80e6501e9348row0_col2 {\n            text-align:  left;\n        }    #T_e2034140_e265_11ea_9558_80e6501e9348row1_col0 {\n            text-align:  left;\n        }    #T_e2034140_e265_11ea_9558_80e6501e9348row1_col1 {\n            text-align:  left;\n        }    #T_e2034140_e265_11ea_9558_80e6501e9348row1_col2 {\n            text-align:  left;\n        }    #T_e2034140_e265_11ea_9558_80e6501e9348row2_col0 {\n            text-align:  left;\n        }    #T_e2034140_e265_11ea_9558_80e6501e9348row2_col1 {\n            text-align:  left;\n        }    #T_e2034140_e265_11ea_9558_80e6501e9348row2_col2 {\n            text-align:  left;\n        }    #T_e2034140_e265_11ea_9558_80e6501e9348row3_col0 {\n            text-align:  left;\n        }    #T_e2034140_e265_11ea_9558_80e6501e9348row3_col1 {\n            text-align:  left;\n        }    #T_e2034140_e265_11ea_9558_80e6501e9348row3_col2 {\n            text-align:  left;\n        }    #T_e2034140_e265_11ea_9558_80e6501e9348row4_col0 {\n            text-align:  left;\n        }    #T_e2034140_e265_11ea_9558_80e6501e9348row4_col1 {\n            text-align:  left;\n        }    #T_e2034140_e265_11ea_9558_80e6501e9348row4_col2 {\n            text-align:  left;\n        }    #T_e2034140_e265_11ea_9558_80e6501e9348row5_col0 {\n            text-align:  left;\n        }    #T_e2034140_e265_11ea_9558_80e6501e9348row5_col1 {\n            text-align:  left;\n        }    #T_e2034140_e265_11ea_9558_80e6501e9348row5_col2 {\n            text-align:  left;\n        }    #T_e2034140_e265_11ea_9558_80e6501e9348row6_col0 {\n            text-align:  left;\n        }    #T_e2034140_e265_11ea_9558_80e6501e9348row6_col1 {\n            text-align:  left;\n        }    #T_e2034140_e265_11ea_9558_80e6501e9348row6_col2 {\n            text-align:  left;\n        }    #T_e2034140_e265_11ea_9558_80e6501e9348row7_col0 {\n            text-align:  left;\n        }    #T_e2034140_e265_11ea_9558_80e6501e9348row7_col1 {\n            text-align:  left;\n        }    #T_e2034140_e265_11ea_9558_80e6501e9348row7_col2 {\n            text-align:  left;\n        }    #T_e2034140_e265_11ea_9558_80e6501e9348row8_col0 {\n            text-align:  left;\n        }    #T_e2034140_e265_11ea_9558_80e6501e9348row8_col1 {\n            text-align:  left;\n        }    #T_e2034140_e265_11ea_9558_80e6501e9348row8_col2 {\n            text-align:  left;\n        }    #T_e2034140_e265_11ea_9558_80e6501e9348row9_col0 {\n            text-align:  left;\n        }    #T_e2034140_e265_11ea_9558_80e6501e9348row9_col1 {\n            text-align:  left;\n        }    #T_e2034140_e265_11ea_9558_80e6501e9348row9_col2 {\n            text-align:  left;\n        }</style><table id=\"T_e2034140_e265_11ea_9558_80e6501e9348\" ><thead>    <tr>        <th class=\"blank level0\" ></th>        <th class=\"col_heading level0 col0\" >time</th>        <th class=\"col_heading level0 col1\" >name</th>        <th class=\"col_heading level0 col2\" >comment</th>    </tr></thead><tbody>\n                <tr>\n                        <th id=\"T_e2034140_e265_11ea_9558_80e6501e9348level0_row0\" class=\"row_heading level0 row0\" >236</th>\n                        <td id=\"T_e2034140_e265_11ea_9558_80e6501e9348row0_col0\" class=\"data row0 col0\" >19:19:59</td>\n                        <td id=\"T_e2034140_e265_11ea_9558_80e6501e9348row0_col1\" class=\"data row0 col1\" >Ana Alvarez</td>\n                        <td id=\"T_e2034140_e265_11ea_9558_80e6501e9348row0_col2\" class=\"data row0 col2\" >Buenas Noches IE N 51 Ica</td>\n            </tr>\n            <tr>\n                        <th id=\"T_e2034140_e265_11ea_9558_80e6501e9348level0_row1\" class=\"row_heading level0 row1\" >248</th>\n                        <td id=\"T_e2034140_e265_11ea_9558_80e6501e9348row1_col0\" class=\"data row1 col0\" >19:21:34</td>\n                        <td id=\"T_e2034140_e265_11ea_9558_80e6501e9348row1_col1\" class=\"data row1 col1\" >BRISASELVA BERASTEIN AYLLÓN</td>\n                        <td id=\"T_e2034140_e265_11ea_9558_80e6501e9348row1_col2\" class=\"data row1 col2\" >BRISASELVA BERASTEIN AYLLÓN, buenas noches a todos, IE. 206 San Juan de Capi - Monzón</td>\n            </tr>\n            <tr>\n                        <th id=\"T_e2034140_e265_11ea_9558_80e6501e9348level0_row2\" class=\"row_heading level0 row2\" >283</th>\n                        <td id=\"T_e2034140_e265_11ea_9558_80e6501e9348row2_col0\" class=\"data row2 col0\" >19:32:34</td>\n                        <td id=\"T_e2034140_e265_11ea_9558_80e6501e9348row2_col1\" class=\"data row2 col1\" >LUZ GRANADOS</td>\n                        <td id=\"T_e2034140_e265_11ea_9558_80e6501e9348row2_col2\" class=\"data row2 col2\" >LUZ GRANADOS POMASUNCO PROFESORA DE PRIMARIA I.E. 110 SAN MARCOS</td>\n            </tr>\n            <tr>\n                        <th id=\"T_e2034140_e265_11ea_9558_80e6501e9348level0_row3\" class=\"row_heading level0 row3\" >15</th>\n                        <td id=\"T_e2034140_e265_11ea_9558_80e6501e9348row3_col0\" class=\"data row3 col0\" >19:03:49</td>\n                        <td id=\"T_e2034140_e265_11ea_9558_80e6501e9348row3_col1\" class=\"data row3 col1\" >Edith Quispe</td>\n                        <td id=\"T_e2034140_e265_11ea_9558_80e6501e9348row3_col2\" class=\"data row3 col2\" >Buenas noches</td>\n            </tr>\n            <tr>\n                        <th id=\"T_e2034140_e265_11ea_9558_80e6501e9348level0_row4\" class=\"row_heading level0 row4\" >55</th>\n                        <td id=\"T_e2034140_e265_11ea_9558_80e6501e9348row4_col0\" class=\"data row4 col0\" >19:05:04</td>\n                        <td id=\"T_e2034140_e265_11ea_9558_80e6501e9348row4_col1\" class=\"data row4 col1\" >Limber Gidio ATENCIA GARCIA</td>\n                        <td id=\"T_e2034140_e265_11ea_9558_80e6501e9348row4_col2\" class=\"data row4 col2\" >buenas noches de la I. E 86361 Acapara Huari</td>\n            </tr>\n            <tr>\n                        <th id=\"T_e2034140_e265_11ea_9558_80e6501e9348level0_row5\" class=\"row_heading level0 row5\" >261</th>\n                        <td id=\"T_e2034140_e265_11ea_9558_80e6501e9348row5_col0\" class=\"data row5 col0\" >19:24:29</td>\n                        <td id=\"T_e2034140_e265_11ea_9558_80e6501e9348row5_col1\" class=\"data row5 col1\" >ROSA VALENZUELA</td>\n                        <td id=\"T_e2034140_e265_11ea_9558_80e6501e9348row5_col2\" class=\"data row5 col2\" >Buenas noches Rosa Valenzuela UGEL Quispicanchi - Cusco.</td>\n            </tr>\n            <tr>\n                        <th id=\"T_e2034140_e265_11ea_9558_80e6501e9348level0_row6\" class=\"row_heading level0 row6\" >308</th>\n                        <td id=\"T_e2034140_e265_11ea_9558_80e6501e9348row6_col0\" class=\"data row6 col0\" >19:40:06</td>\n                        <td id=\"T_e2034140_e265_11ea_9558_80e6501e9348row6_col1\" class=\"data row6 col1\" >ANTIA SALAZAR</td>\n                        <td id=\"T_e2034140_e265_11ea_9558_80e6501e9348row6_col2\" class=\"data row6 col2\" >Desde Pacasmayo-La Libertad , IE N° 81788 \"Héroes Guadalupanos\"</td>\n            </tr>\n            <tr>\n                        <th id=\"T_e2034140_e265_11ea_9558_80e6501e9348level0_row7\" class=\"row_heading level0 row7\" >188</th>\n                        <td id=\"T_e2034140_e265_11ea_9558_80e6501e9348row7_col0\" class=\"data row7 col0\" >19:12:57</td>\n                        <td id=\"T_e2034140_e265_11ea_9558_80e6501e9348row7_col1\" class=\"data row7 col1\" >FAUSTO CORDOVA CASTILLO</td>\n                        <td id=\"T_e2034140_e265_11ea_9558_80e6501e9348row7_col2\" class=\"data row7 col2\" >BUENAS NOCHES LES SALUDA FAUSTO CORDOVA CASTILLO DE LA I.E. 82599CONTUMAZA-CAJAMARCA</td>\n            </tr>\n            <tr>\n                        <th id=\"T_e2034140_e265_11ea_9558_80e6501e9348level0_row8\" class=\"row_heading level0 row8\" >224</th>\n                        <td id=\"T_e2034140_e265_11ea_9558_80e6501e9348row8_col0\" class=\"data row8 col0\" >19:17:58</td>\n                        <td id=\"T_e2034140_e265_11ea_9558_80e6501e9348row8_col1\" class=\"data row8 col1\" >Viviana Quispe Castillo</td>\n                        <td id=\"T_e2034140_e265_11ea_9558_80e6501e9348row8_col2\" class=\"data row8 col2\" >Buenas noches S.J.Fe y Alegría Tacna</td>\n            </tr>\n            <tr>\n                        <th id=\"T_e2034140_e265_11ea_9558_80e6501e9348level0_row9\" class=\"row_heading level0 row9\" >93</th>\n                        <td id=\"T_e2034140_e265_11ea_9558_80e6501e9348row9_col0\" class=\"data row9 col0\" >19:06:19</td>\n                        <td id=\"T_e2034140_e265_11ea_9558_80e6501e9348row9_col1\" class=\"data row9 col1\" >CELIA ESTHER ROJAS SAUCEDO</td>\n                        <td id=\"T_e2034140_e265_11ea_9558_80e6501e9348row9_col2\" class=\"data row9 col2\" >BUENAS NOCHES LES SALUDA , CELIA ROJAS SAUCEDO , CAJAMARCA I.E.I N°883 RODACOCHA-ENCAÑADA.</td>\n            </tr>\n    </tbody></table>"
     },
     "metadata": {},
     "execution_count": 85
    }
   ],
   "source": [
    "print(f'Greetings: {len(data_saludos)} rows')\n",
    "data_saludos.sample(10, random_state=0).style.set_properties(**{'text-align': 'left'})"
   ]
  },
  {
   "cell_type": "code",
   "execution_count": 86,
   "metadata": {
    "tags": []
   },
   "outputs": [
    {
     "output_type": "stream",
     "name": "stdout",
     "text": "Technical issues: 34 rows\n"
    },
    {
     "output_type": "execute_result",
     "data": {
      "text/plain": "<pandas.io.formats.style.Styler at 0x11cff3940>",
      "text/html": "<style  type=\"text/css\" >\n    #T_e5dbf106_e265_11ea_9b83_80e6501e9348row0_col0 {\n            text-align:  left;\n        }    #T_e5dbf106_e265_11ea_9b83_80e6501e9348row0_col1 {\n            text-align:  left;\n        }    #T_e5dbf106_e265_11ea_9b83_80e6501e9348row0_col2 {\n            text-align:  left;\n        }    #T_e5dbf106_e265_11ea_9b83_80e6501e9348row1_col0 {\n            text-align:  left;\n        }    #T_e5dbf106_e265_11ea_9b83_80e6501e9348row1_col1 {\n            text-align:  left;\n        }    #T_e5dbf106_e265_11ea_9b83_80e6501e9348row1_col2 {\n            text-align:  left;\n        }    #T_e5dbf106_e265_11ea_9b83_80e6501e9348row2_col0 {\n            text-align:  left;\n        }    #T_e5dbf106_e265_11ea_9b83_80e6501e9348row2_col1 {\n            text-align:  left;\n        }    #T_e5dbf106_e265_11ea_9b83_80e6501e9348row2_col2 {\n            text-align:  left;\n        }    #T_e5dbf106_e265_11ea_9b83_80e6501e9348row3_col0 {\n            text-align:  left;\n        }    #T_e5dbf106_e265_11ea_9b83_80e6501e9348row3_col1 {\n            text-align:  left;\n        }    #T_e5dbf106_e265_11ea_9b83_80e6501e9348row3_col2 {\n            text-align:  left;\n        }    #T_e5dbf106_e265_11ea_9b83_80e6501e9348row4_col0 {\n            text-align:  left;\n        }    #T_e5dbf106_e265_11ea_9b83_80e6501e9348row4_col1 {\n            text-align:  left;\n        }    #T_e5dbf106_e265_11ea_9b83_80e6501e9348row4_col2 {\n            text-align:  left;\n        }    #T_e5dbf106_e265_11ea_9b83_80e6501e9348row5_col0 {\n            text-align:  left;\n        }    #T_e5dbf106_e265_11ea_9b83_80e6501e9348row5_col1 {\n            text-align:  left;\n        }    #T_e5dbf106_e265_11ea_9b83_80e6501e9348row5_col2 {\n            text-align:  left;\n        }    #T_e5dbf106_e265_11ea_9b83_80e6501e9348row6_col0 {\n            text-align:  left;\n        }    #T_e5dbf106_e265_11ea_9b83_80e6501e9348row6_col1 {\n            text-align:  left;\n        }    #T_e5dbf106_e265_11ea_9b83_80e6501e9348row6_col2 {\n            text-align:  left;\n        }    #T_e5dbf106_e265_11ea_9b83_80e6501e9348row7_col0 {\n            text-align:  left;\n        }    #T_e5dbf106_e265_11ea_9b83_80e6501e9348row7_col1 {\n            text-align:  left;\n        }    #T_e5dbf106_e265_11ea_9b83_80e6501e9348row7_col2 {\n            text-align:  left;\n        }    #T_e5dbf106_e265_11ea_9b83_80e6501e9348row8_col0 {\n            text-align:  left;\n        }    #T_e5dbf106_e265_11ea_9b83_80e6501e9348row8_col1 {\n            text-align:  left;\n        }    #T_e5dbf106_e265_11ea_9b83_80e6501e9348row8_col2 {\n            text-align:  left;\n        }    #T_e5dbf106_e265_11ea_9b83_80e6501e9348row9_col0 {\n            text-align:  left;\n        }    #T_e5dbf106_e265_11ea_9b83_80e6501e9348row9_col1 {\n            text-align:  left;\n        }    #T_e5dbf106_e265_11ea_9b83_80e6501e9348row9_col2 {\n            text-align:  left;\n        }</style><table id=\"T_e5dbf106_e265_11ea_9b83_80e6501e9348\" ><thead>    <tr>        <th class=\"blank level0\" ></th>        <th class=\"col_heading level0 col0\" >time</th>        <th class=\"col_heading level0 col1\" >name</th>        <th class=\"col_heading level0 col2\" >comment</th>    </tr></thead><tbody>\n                <tr>\n                        <th id=\"T_e5dbf106_e265_11ea_9b83_80e6501e9348level0_row0\" class=\"row_heading level0 row0\" >290</th>\n                        <td id=\"T_e5dbf106_e265_11ea_9b83_80e6501e9348row0_col0\" class=\"data row0 col0\" >19:33:58</td>\n                        <td id=\"T_e5dbf106_e265_11ea_9b83_80e6501e9348row0_col1\" class=\"data row0 col1\" >ALDINA URBANO PIÑAN</td>\n                        <td id=\"T_e5dbf106_e265_11ea_9b83_80e6501e9348row0_col2\" class=\"data row0 col2\" >si se escucha... revisen su audio</td>\n            </tr>\n            <tr>\n                        <th id=\"T_e5dbf106_e265_11ea_9b83_80e6501e9348level0_row1\" class=\"row_heading level0 row1\" >519</th>\n                        <td id=\"T_e5dbf106_e265_11ea_9b83_80e6501e9348row1_col0\" class=\"data row1 col0\" >20:16:40</td>\n                        <td id=\"T_e5dbf106_e265_11ea_9b83_80e6501e9348row1_col1\" class=\"data row1 col1\" >Heidy Villanueva</td>\n                        <td id=\"T_e5dbf106_e265_11ea_9b83_80e6501e9348row1_col2\" class=\"data row1 col2\" >Nos podrían compartir sus ppt por favor</td>\n            </tr>\n            <tr>\n                        <th id=\"T_e5dbf106_e265_11ea_9b83_80e6501e9348level0_row2\" class=\"row_heading level0 row2\" >585</th>\n                        <td id=\"T_e5dbf106_e265_11ea_9b83_80e6501e9348row2_col0\" class=\"data row2 col0\" >20:32:14</td>\n                        <td id=\"T_e5dbf106_e265_11ea_9b83_80e6501e9348row2_col1\" class=\"data row2 col1\" >Luz Coz</td>\n                        <td id=\"T_e5dbf106_e265_11ea_9b83_80e6501e9348row2_col2\" class=\"data row2 col2\" >podrían enviar el link para ingresar a revisar el trabajo de la maestra Ynes por favor</td>\n            </tr>\n            <tr>\n                        <th id=\"T_e5dbf106_e265_11ea_9b83_80e6501e9348level0_row3\" class=\"row_heading level0 row3\" >394</th>\n                        <td id=\"T_e5dbf106_e265_11ea_9b83_80e6501e9348row3_col0\" class=\"data row3 col0\" >19:48:23</td>\n                        <td id=\"T_e5dbf106_e265_11ea_9b83_80e6501e9348row3_col1\" class=\"data row3 col1\" >Godofredo Cueva Paulino</td>\n                        <td id=\"T_e5dbf106_e265_11ea_9b83_80e6501e9348row3_col2\" class=\"data row3 col2\" >Nos envian el ppt.</td>\n            </tr>\n            <tr>\n                        <th id=\"T_e5dbf106_e265_11ea_9b83_80e6501e9348level0_row4\" class=\"row_heading level0 row4\" >141</th>\n                        <td id=\"T_e5dbf106_e265_11ea_9b83_80e6501e9348row4_col0\" class=\"data row4 col0\" >19:08:58</td>\n                        <td id=\"T_e5dbf106_e265_11ea_9b83_80e6501e9348row4_col1\" class=\"data row4 col1\" >Otilia Isabel Padilla Sosa</td>\n                        <td id=\"T_e5dbf106_e265_11ea_9b83_80e6501e9348row4_col2\" class=\"data row4 col2\" >no se escucha</td>\n            </tr>\n            <tr>\n                        <th id=\"T_e5dbf106_e265_11ea_9b83_80e6501e9348level0_row5\" class=\"row_heading level0 row5\" >589</th>\n                        <td id=\"T_e5dbf106_e265_11ea_9b83_80e6501e9348row5_col0\" class=\"data row5 col0\" >20:32:28</td>\n                        <td id=\"T_e5dbf106_e265_11ea_9b83_80e6501e9348row5_col1\" class=\"data row5 col1\" >Teofilo Lucas De la cruz</td>\n                        <td id=\"T_e5dbf106_e265_11ea_9b83_80e6501e9348row5_col2\" class=\"data row5 col2\" >Por favor.  Seria posible que nos envié los ppts del curso.</td>\n            </tr>\n            <tr>\n                        <th id=\"T_e5dbf106_e265_11ea_9b83_80e6501e9348level0_row6\" class=\"row_heading level0 row6\" >664</th>\n                        <td id=\"T_e5dbf106_e265_11ea_9b83_80e6501e9348row6_col0\" class=\"data row6 col0\" >20:34:37</td>\n                        <td id=\"T_e5dbf106_e265_11ea_9b83_80e6501e9348row6_col1\" class=\"data row6 col1\" >cesar pastor Vallejos</td>\n                        <td id=\"T_e5dbf106_e265_11ea_9b83_80e6501e9348row6_col2\" class=\"data row6 col2\" >envíen el ppt a los whatsaap</td>\n            </tr>\n            <tr>\n                        <th id=\"T_e5dbf106_e265_11ea_9b83_80e6501e9348level0_row7\" class=\"row_heading level0 row7\" >311</th>\n                        <td id=\"T_e5dbf106_e265_11ea_9b83_80e6501e9348row7_col0\" class=\"data row7 col0\" >19:41:53</td>\n                        <td id=\"T_e5dbf106_e265_11ea_9b83_80e6501e9348row7_col1\" class=\"data row7 col1\" >Jose De la Riva</td>\n                        <td id=\"T_e5dbf106_e265_11ea_9b83_80e6501e9348row7_col2\" class=\"data row7 col2\" >Tambien estamos en Facebook Live en la pagina de Viva Vive Valores</td>\n            </tr>\n            <tr>\n                        <th id=\"T_e5dbf106_e265_11ea_9b83_80e6501e9348level0_row8\" class=\"row_heading level0 row8\" >287</th>\n                        <td id=\"T_e5dbf106_e265_11ea_9b83_80e6501e9348row8_col0\" class=\"data row8 col0\" >19:33:37</td>\n                        <td id=\"T_e5dbf106_e265_11ea_9b83_80e6501e9348row8_col1\" class=\"data row8 col1\" >Yolanda Sequeiros</td>\n                        <td id=\"T_e5dbf106_e265_11ea_9b83_80e6501e9348row8_col2\" class=\"data row8 col2\" >Yo si escucho revisen su audio</td>\n            </tr>\n            <tr>\n                        <th id=\"T_e5dbf106_e265_11ea_9b83_80e6501e9348level0_row9\" class=\"row_heading level0 row9\" >668</th>\n                        <td id=\"T_e5dbf106_e265_11ea_9b83_80e6501e9348row9_col0\" class=\"data row9 col0\" >20:34:38</td>\n                        <td id=\"T_e5dbf106_e265_11ea_9b83_80e6501e9348row9_col1\" class=\"data row9 col1\" >Sara Lezameta Saavedra</td>\n                        <td id=\"T_e5dbf106_e265_11ea_9b83_80e6501e9348row9_col2\" class=\"data row9 col2\" >El grupo de facebook por favor</td>\n            </tr>\n    </tbody></table>"
     },
     "metadata": {},
     "execution_count": 86
    }
   ],
   "source": [
    "print(f'Technical issues: {len(data_asuntos_tecnicos)} rows')\n",
    "data_asuntos_tecnicos.sample(10, random_state=0).style.set_properties(**{'text-align': 'left'})"
   ]
  },
  {
   "cell_type": "code",
   "execution_count": 87,
   "metadata": {
    "tags": []
   },
   "outputs": [
    {
     "output_type": "stream",
     "name": "stdout",
     "text": "Reflections: 195 rows\n"
    },
    {
     "output_type": "execute_result",
     "data": {
      "text/plain": "<pandas.io.formats.style.Styler at 0x11c79e860>",
      "text/html": "<style  type=\"text/css\" >\n    #T_e958b346_e265_11ea_9079_80e6501e9348row0_col0 {\n            text-align:  left;\n        }    #T_e958b346_e265_11ea_9079_80e6501e9348row0_col1 {\n            text-align:  left;\n        }    #T_e958b346_e265_11ea_9079_80e6501e9348row0_col2 {\n            text-align:  left;\n        }    #T_e958b346_e265_11ea_9079_80e6501e9348row1_col0 {\n            text-align:  left;\n        }    #T_e958b346_e265_11ea_9079_80e6501e9348row1_col1 {\n            text-align:  left;\n        }    #T_e958b346_e265_11ea_9079_80e6501e9348row1_col2 {\n            text-align:  left;\n        }    #T_e958b346_e265_11ea_9079_80e6501e9348row2_col0 {\n            text-align:  left;\n        }    #T_e958b346_e265_11ea_9079_80e6501e9348row2_col1 {\n            text-align:  left;\n        }    #T_e958b346_e265_11ea_9079_80e6501e9348row2_col2 {\n            text-align:  left;\n        }    #T_e958b346_e265_11ea_9079_80e6501e9348row3_col0 {\n            text-align:  left;\n        }    #T_e958b346_e265_11ea_9079_80e6501e9348row3_col1 {\n            text-align:  left;\n        }    #T_e958b346_e265_11ea_9079_80e6501e9348row3_col2 {\n            text-align:  left;\n        }    #T_e958b346_e265_11ea_9079_80e6501e9348row4_col0 {\n            text-align:  left;\n        }    #T_e958b346_e265_11ea_9079_80e6501e9348row4_col1 {\n            text-align:  left;\n        }    #T_e958b346_e265_11ea_9079_80e6501e9348row4_col2 {\n            text-align:  left;\n        }    #T_e958b346_e265_11ea_9079_80e6501e9348row5_col0 {\n            text-align:  left;\n        }    #T_e958b346_e265_11ea_9079_80e6501e9348row5_col1 {\n            text-align:  left;\n        }    #T_e958b346_e265_11ea_9079_80e6501e9348row5_col2 {\n            text-align:  left;\n        }    #T_e958b346_e265_11ea_9079_80e6501e9348row6_col0 {\n            text-align:  left;\n        }    #T_e958b346_e265_11ea_9079_80e6501e9348row6_col1 {\n            text-align:  left;\n        }    #T_e958b346_e265_11ea_9079_80e6501e9348row6_col2 {\n            text-align:  left;\n        }    #T_e958b346_e265_11ea_9079_80e6501e9348row7_col0 {\n            text-align:  left;\n        }    #T_e958b346_e265_11ea_9079_80e6501e9348row7_col1 {\n            text-align:  left;\n        }    #T_e958b346_e265_11ea_9079_80e6501e9348row7_col2 {\n            text-align:  left;\n        }    #T_e958b346_e265_11ea_9079_80e6501e9348row8_col0 {\n            text-align:  left;\n        }    #T_e958b346_e265_11ea_9079_80e6501e9348row8_col1 {\n            text-align:  left;\n        }    #T_e958b346_e265_11ea_9079_80e6501e9348row8_col2 {\n            text-align:  left;\n        }    #T_e958b346_e265_11ea_9079_80e6501e9348row9_col0 {\n            text-align:  left;\n        }    #T_e958b346_e265_11ea_9079_80e6501e9348row9_col1 {\n            text-align:  left;\n        }    #T_e958b346_e265_11ea_9079_80e6501e9348row9_col2 {\n            text-align:  left;\n        }</style><table id=\"T_e958b346_e265_11ea_9079_80e6501e9348\" ><thead>    <tr>        <th class=\"blank level0\" ></th>        <th class=\"col_heading level0 col0\" >time</th>        <th class=\"col_heading level0 col1\" >name</th>        <th class=\"col_heading level0 col2\" >comment</th>    </tr></thead><tbody>\n                <tr>\n                        <th id=\"T_e958b346_e265_11ea_9079_80e6501e9348level0_row0\" class=\"row_heading level0 row0\" >405</th>\n                        <td id=\"T_e958b346_e265_11ea_9079_80e6501e9348row0_col0\" class=\"data row0 col0\" >19:49:04</td>\n                        <td id=\"T_e958b346_e265_11ea_9079_80e6501e9348row0_col1\" class=\"data row0 col1\" >Lorenzo Mesías</td>\n                        <td id=\"T_e958b346_e265_11ea_9079_80e6501e9348row0_col2\" class=\"data row0 col2\" >lo que yo veo es que estamos tan ligados al plumón y la pizarra por ciento de años que los profesores, hasta por el Zoom no pueden desligarse de ese estilo tan tradicional de interactuar con los estudiantes. que algunos incluso se llevaron su pizarra a su casa, por qué sin ella no lo pueden hacer.</td>\n            </tr>\n            <tr>\n                        <th id=\"T_e958b346_e265_11ea_9079_80e6501e9348level0_row1\" class=\"row_heading level0 row1\" >238</th>\n                        <td id=\"T_e958b346_e265_11ea_9079_80e6501e9348row1_col0\" class=\"data row1 col0\" >19:20:11</td>\n                        <td id=\"T_e958b346_e265_11ea_9079_80e6501e9348row1_col1\" class=\"data row1 col1\" >PILAR SOSA</td>\n                        <td id=\"T_e958b346_e265_11ea_9079_80e6501e9348row1_col2\" class=\"data row1 col2\" >RETOS Y DESAFIOS</td>\n            </tr>\n            <tr>\n                        <th id=\"T_e958b346_e265_11ea_9079_80e6501e9348level0_row2\" class=\"row_heading level0 row2\" >334</th>\n                        <td id=\"T_e958b346_e265_11ea_9079_80e6501e9348row2_col0\" class=\"data row2 col0\" >19:44:34</td>\n                        <td id=\"T_e958b346_e265_11ea_9079_80e6501e9348row2_col1\" class=\"data row2 col1\" >Oblitas Elena</td>\n                        <td id=\"T_e958b346_e265_11ea_9079_80e6501e9348row2_col2\" class=\"data row2 col2\" >después de la pandemia pienso que debe cambiar nuestra actitud y salir de la zona de confort</td>\n            </tr>\n            <tr>\n                        <th id=\"T_e958b346_e265_11ea_9079_80e6501e9348level0_row3\" class=\"row_heading level0 row3\" >443</th>\n                        <td id=\"T_e958b346_e265_11ea_9079_80e6501e9348row3_col0\" class=\"data row3 col0\" >19:53:39</td>\n                        <td id=\"T_e958b346_e265_11ea_9079_80e6501e9348row3_col1\" class=\"data row3 col1\" >BRISASELVA BERASTEIN AYLLÓN</td>\n                        <td id=\"T_e958b346_e265_11ea_9079_80e6501e9348row3_col2\" class=\"data row3 col2\" >Considero de que la educación a distancia debe quedar en la educación peruana, por ejemplo hay alumnos que deben vivir solos o con hermanitos menores, atendiéndose y atendiendo a los hermanos, sería mejor que lleven la educación desde casa, donde tendrían la compañía de los padres, solamente la evaluaciones la tndrían que rendir en el colegio.</td>\n            </tr>\n            <tr>\n                        <th id=\"T_e958b346_e265_11ea_9079_80e6501e9348level0_row4\" class=\"row_heading level0 row4\" >535</th>\n                        <td id=\"T_e958b346_e265_11ea_9079_80e6501e9348row4_col0\" class=\"data row4 col0\" >20:23:57</td>\n                        <td id=\"T_e958b346_e265_11ea_9079_80e6501e9348row4_col1\" class=\"data row4 col1\" >Verónica Lozano</td>\n                        <td id=\"T_e958b346_e265_11ea_9079_80e6501e9348row4_col2\" class=\"data row4 col2\" >Solo es realmente importante el aprendizaje si es contextualizado y te sirve para el momento en que viven…..</td>\n            </tr>\n            <tr>\n                        <th id=\"T_e958b346_e265_11ea_9079_80e6501e9348level0_row5\" class=\"row_heading level0 row5\" >472</th>\n                        <td id=\"T_e958b346_e265_11ea_9079_80e6501e9348row5_col0\" class=\"data row5 col0\" >19:59:47</td>\n                        <td id=\"T_e958b346_e265_11ea_9079_80e6501e9348row5_col1\" class=\"data row5 col1\" >Damilú Chávez Vilcarromero</td>\n                        <td id=\"T_e958b346_e265_11ea_9079_80e6501e9348row5_col2\" class=\"data row5 col2\" >El error es una oportunidad para el aprendiza y para el docente la oportunidad para retroalimentar</td>\n            </tr>\n            <tr>\n                        <th id=\"T_e958b346_e265_11ea_9079_80e6501e9348level0_row6\" class=\"row_heading level0 row6\" >524</th>\n                        <td id=\"T_e958b346_e265_11ea_9079_80e6501e9348row6_col0\" class=\"data row6 col0\" >20:17:58</td>\n                        <td id=\"T_e958b346_e265_11ea_9079_80e6501e9348row6_col1\" class=\"data row6 col1\" >Nadia Siches Patiño</td>\n                        <td id=\"T_e958b346_e265_11ea_9079_80e6501e9348row6_col2\" class=\"data row6 col2\" >a través de la experiencia..información de los saberes familiares</td>\n            </tr>\n            <tr>\n                        <th id=\"T_e958b346_e265_11ea_9079_80e6501e9348level0_row7\" class=\"row_heading level0 row7\" >459</th>\n                        <td id=\"T_e958b346_e265_11ea_9079_80e6501e9348row7_col0\" class=\"data row7 col0\" >19:56:23</td>\n                        <td id=\"T_e958b346_e265_11ea_9079_80e6501e9348row7_col1\" class=\"data row7 col1\" >Maria del Pilar Pedraza Tipacti de Zavala</td>\n                        <td id=\"T_e958b346_e265_11ea_9079_80e6501e9348row7_col2\" class=\"data row7 col2\" >Retroalimentacion es inmediato no todos los estudiantes al mismo ritmo ayudarlos</td>\n            </tr>\n            <tr>\n                        <th id=\"T_e958b346_e265_11ea_9079_80e6501e9348level0_row8\" class=\"row_heading level0 row8\" >393</th>\n                        <td id=\"T_e958b346_e265_11ea_9079_80e6501e9348row8_col0\" class=\"data row8 col0\" >19:48:20</td>\n                        <td id=\"T_e958b346_e265_11ea_9079_80e6501e9348row8_col1\" class=\"data row8 col1\" >Julia Gilma Fonseca Espinoza</td>\n                        <td id=\"T_e958b346_e265_11ea_9079_80e6501e9348row8_col2\" class=\"data row8 col2\" >los medios digitales en las clases definitivamente han llegado para quedarse y seguirá siendo útil después de la pandemia</td>\n            </tr>\n            <tr>\n                        <th id=\"T_e958b346_e265_11ea_9079_80e6501e9348level0_row9\" class=\"row_heading level0 row9\" >278</th>\n                        <td id=\"T_e958b346_e265_11ea_9079_80e6501e9348row9_col0\" class=\"data row9 col0\" >19:31:34</td>\n                        <td id=\"T_e958b346_e265_11ea_9079_80e6501e9348row9_col1\" class=\"data row9 col1\" >JUAN AQUILES VILLACORTA ARIAS</td>\n                        <td id=\"T_e958b346_e265_11ea_9079_80e6501e9348row9_col2\" class=\"data row9 col2\" >VILLACORTA ARIAS JUAN AQUILES -ANCASH</td>\n            </tr>\n    </tbody></table>"
     },
     "metadata": {},
     "execution_count": 87
    }
   ],
   "source": [
    "print(f'Reflections: {len(data_reflexiones)} rows')\n",
    "data_reflexiones.sample(10, random_state=0).style.set_properties(**{'text-align': 'left'})"
   ]
  },
  {
   "cell_type": "markdown",
   "metadata": {},
   "source": [
    "## 3) Manual verification\n",
    "Excel / google spreadsheets may be enough"
   ]
  },
  {
   "cell_type": "code",
   "execution_count": null,
   "metadata": {},
   "outputs": [],
   "source": []
  }
 ],
 "metadata": {
  "kernelspec": {
   "display_name": "Python 3",
   "language": "python",
   "name": "python3"
  },
  "language_info": {
   "codemirror_mode": {
    "name": "ipython",
    "version": 3
   },
   "file_extension": ".py",
   "mimetype": "text/x-python",
   "name": "python",
   "nbconvert_exporter": "python",
   "pygments_lexer": "ipython3",
   "version": "3.6.10-final"
  }
 },
 "nbformat": 4,
 "nbformat_minor": 4
}